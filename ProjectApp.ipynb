{
 "cells": [
  {
   "cell_type": "code",
   "execution_count": 1,
   "metadata": {
    "collapsed": false
   },
   "outputs": [
    {
     "name": "stdout",
     "output_type": "stream",
     "text": [
      "Populating the interactive namespace from numpy and matplotlib\n"
     ]
    }
   ],
   "source": [
    "# import os\n",
    "import numpy as np\n",
    "import SimpleITK\n",
    "import matplotlib.pyplot as plt\n",
    "import matplotlib.mlab as mlab\n",
    "from __future__ import division\n",
    "%pylab inline"
   ]
  },
  {
   "cell_type": "markdown",
   "metadata": {},
   "source": [
    "A method to display slices"
   ]
  },
  {
   "cell_type": "code",
   "execution_count": 3,
   "metadata": {
    "collapsed": true
   },
   "outputs": [],
   "source": [
    "def sitk_show(img, title=None, margin=0.0, dpi=40):\n",
    "    nda = SimpleITK.GetArrayFromImage(img)\n",
    "    #spacing = img.GetSpacing()\n",
    "    figsize = (1 + margin) * nda.shape[0] / dpi, (1 + margin) * nda.shape[1] / dpi\n",
    "    #extent = (0, nda.shape[1]*spacing[1], nda.shape[0]*spacing[0], 0)\n",
    "    extent = (0, nda.shape[1], nda.shape[0], 0)\n",
    "    fig = plt.figure(figsize=figsize, dpi=dpi)\n",
    "    ax = fig.add_axes([margin, margin, 1 - 2*margin, 1 - 2*margin])\n",
    "    plt.set_cmap(\"gray\")\n",
    "    ax.imshow(nda,extent=extent,interpolation=None)\n",
    "    \n",
    "    if title:\n",
    "        plt.title(title)\n",
    "    \n",
    "    plt.show()"
   ]
  },
  {
   "cell_type": "markdown",
   "metadata": {},
   "source": [
    "Adds as outlier voxels 3 standard deviations away from the norm"
   ]
  },
  {
   "cell_type": "code",
   "execution_count": 4,
   "metadata": {
    "collapsed": true
   },
   "outputs": [],
   "source": [
    "def add_outlier(seg, img, k):\n",
    "    for i in range(1,k+1):\n",
    "        stdev = img[seg==i].std()\n",
    "        mean = img[seg==i].mean()\n",
    "        sub = np.all([seg==i, np.any([img>mean+3*stdev, img<mean-3*stdev], 0)],0)\n",
    "        seg[sub] = 4\n",
    "        \n",
    "        "
   ]
  },
  {
   "cell_type": "markdown",
   "metadata": {},
   "source": [
    "Takes an image segmentation (gray matter, white matter and CSF) and initializes theta. outliers are more than 3 standard deviations away from norm"
   ]
  },
  {
   "cell_type": "code",
   "execution_count": 5,
   "metadata": {
    "collapsed": true
   },
   "outputs": [],
   "source": [
    "def init_theta(seg,img, theta, k, c):\n",
    "    for i in range(0,c):\n",
    "        for j in range(1,k+2):\n",
    "            theta[i][2*j] = img[i][seg==(j)].mean()\n",
    "            theta[i][2*j+1] = img[i][seg==(j)].var()\n",
    "            \n",
    "            \n",
    "    \n",
    "        "
   ]
  },
  {
   "cell_type": "markdown",
   "metadata": {
    "collapsed": true
   },
   "source": [
    "def init_tumor(seg, tumor, c):\n",
    "    for i in range(0,c):\n",
    "        tumor[i][seg==4] = 1\n",
    "            "
   ]
  },
  {
   "cell_type": "code",
   "execution_count": null,
   "metadata": {
    "collapsed": true
   },
   "outputs": [],
   "source": [
    "def T_prob(Ti, alphai):\n",
    "    return alphai**np.sum(Ti) * (1-alphai)**(Ti.size-np.sum(Ti))"
   ]
  },
  {
   "cell_type": "code",
   "execution_count": 192,
   "metadata": {
    "collapsed": false
   },
   "outputs": [],
   "source": [
    "# def help_func(yi,tic, muk, stdevk, mukP1, stdevkP1):\n",
    "#     return mlab.normpdf(yi,muk,stdevk)**(1-tic) * mlab.normpdf(yi,mukP1, stdevkP1)**tic\n",
    "\n",
    "def Y_prob(yi, ti, ki, theta):\n",
    "    mu=[theta[0][2*ki],theta[1][2*ki],theta[2][2*ki],theta[3][2*ki]]\n",
    "    var=[theta[0][2*ki+1],theta[1][2*ki+1],theta[2][2*ki+1],theta[3][2*ki+1]]\n",
    "    mukP1 = [theta[0][-2],theta[1][-2],theta[2][-2],theta[3][-2]]\n",
    "    varkP1 = [theta[0][-1],theta[1][-1],theta[2][-1],theta[3][-1]]\n",
    "    return mlab.normpdf(yi,mu,np.sqrt(var))**(1-tic) * mlab.normpdf(yi,mukP1, np.sqrt(varkP1))**tic\n",
    "#     return np.prod(map(help_func, yi, ti, mu, stdev, mukP1, stdevkP1))"
   ]
  },
  {
   "cell_type": "code",
   "execution_count": 12,
   "metadata": {
    "collapsed": true
   },
   "outputs": [],
   "source": [
    "def get_class(seg, probMap):\n",
    "    return np.argmax([np.mean(probMap[seg==1]), np.mean(probMap[seg==2]), np.mean(probMap[seg==3])])+1"
   ]
  },
  {
   "cell_type": "code",
   "execution_count": 13,
   "metadata": {
    "collapsed": true
   },
   "outputs": [],
   "source": [
    "def Qi(yi,ti, k, theta, alphai, atlas, index):\n",
    "    sum = 0\n",
    "    for i in range(1,k+1): #3 classes are 1,2,3\n",
    "        sum += Y_prob(yi, ti, i, theta)*T_prob(ti, alphai)*atlas[i][index]\n",
    "    return sum"
   ]
  },
  {
   "cell_type": "code",
   "execution_count": 193,
   "metadata": {
    "collapsed": true
   },
   "outputs": [],
   "source": [
    "def Wik(yi, theta, atlas, ti, index, k):\n",
    "    mu=[theta[0][2*k],theta[1][2*k],theta[2][2*k],theta[3][2*k]]\n",
    "    var=[theta[0][2*k+1],theta[1][2*k+1],theta[2][2*k+1],theta[3][2*k+1]]\n",
    "    return atlas[k][index]*np.prod(mlab.normpdf, yi, mu, np.sqrt(var))**(1-ti)"
   ]
  },
  {
   "cell_type": "code",
   "execution_count": 76,
   "metadata": {
    "collapsed": false
   },
   "outputs": [],
   "source": [
    "def get_all_t(c): # returnes the 2^c configurations\n",
    "    if c == 1:\n",
    "        return [np.array([0]), np.array([1])]\n",
    "    else:\n",
    "        arr = get_all_t(c-1) "
   ]
  },
  {
   "cell_type": "code",
   "execution_count": null,
   "metadata": {
    "collapsed": true
   },
   "outputs": [],
   "source": [
    "def alpha_update(index):\n",
    "    np.sum(map(Qi, [img[:,index]]*all_t.shape[0], all_t, [K]*all_t.shape[0], [theta]*all_t.shape[0], \n",
    "        [alpha[index]]*all_t.shape[0], [atlas]*all_t.shape[0], [index]*all_t.shape[0]) * np.true_divide(np.sum(all_t,1), ci))"
   ]
  },
  {
   "cell_type": "code",
   "execution_count": 166,
   "metadata": {
    "collapsed": false
   },
   "outputs": [],
   "source": [
    "def mu_update_numerator(index):\n",
    "    np.sum(map(Qi, [img[:,index]]*all_t.shape[0], all_t, [K]*all_t.shape[0], [theta]*all_t.shape[0], \n",
    "        [alpha[index]]*all_t.shape[0], [atlas]*all_t.shape[0], [index]*all_t.shape[0])*\n",
    "           map(Wik, [img[:,index]]*all_t.shape[0],[theta]*all_t.shape[0], [atlas]*all_t.shape[0],\n",
    "                all_t, [index]*all_t.shape[0], [ki]*all_t.shape[0])*(1-all_t[:,ci])*img[ci,index])\n",
    "\n",
    "def update_denominator(index): # mu and stdev update denominators are the same\n",
    "    np.sum(map(Qi, [img[:,index]]*all_t.shape[0], all_t, [K]*all_t.shape[0], [theta]*all_t.shape[0], \n",
    "        [alpha[index]]*all_t.shape[0], [atlas]*all_t.shape[0], [index]*all_t.shape[0])*\n",
    "           map(Wik, [img[:,index]]*all_t.shape[0],[theta]*all_t.shape[0], [atlas]*all_t.shape[0],\n",
    "                all_t, [index]*all_t.shape[0], [ki]*all_t.shape[0])*(1-all_t[:,ci]))\n",
    "\n",
    "def stddev_update_numerator(index):\n",
    "    np.sum(map(Qi, [img[:,index]]*all_t.shape[0], all_t, [K]*all_t.shape[0], [theta]*all_t.shape[0], \n",
    "        [alpha[index]]*all_t.shape[0], [atlas]*all_t.shape[0], [index]*all_t.shape[0])*\n",
    "           map(Wik, [img[:,index]]*all_t.shape[0],[theta]*all_t.shape[0], [atlas]*all_t.shape[0],\n",
    "                all_t, [index]*all_t.shape[0], [ki]*all_t.shape[0])*(1-all_t[:,ci])*(img[ci,index]-theta[ci][2*ki])**2)\n",
    "\n",
    "def tumor_mu_update_numerator(index):\n",
    "    np.sum(map(Qi, [img[:,index]]*all_t.shape[0], all_t, [K]*all_t.shape[0], [theta]*all_t.shape[0], \n",
    "        [alpha[index]]*all_t.shape[0], [atlas]*all_t.shape[0], [index]*all_t.shape[0])*all_t[:,ci]*img[ci,index])\n",
    "\n",
    "def tumor_update_denominator(index):\n",
    "    np.sum(map(Qi, [img[:,index]]*all_t.shape[0], all_t, [K]*all_t.shape[0], [theta]*all_t.shape[0], \n",
    "        [alpha[index]]*all_t.shape[0], [atlas]*all_t.shape[0], [index]*all_t.shape[0])*all_t[:,ci])\n",
    "\n",
    "def tumor_stddev_update_numerator(index):\n",
    "    np.sum(map(Qi, [img[:,index]]*all_t.shape[0], all_t, [K]*all_t.shape[0], [theta]*all_t.shape[0], \n",
    "        [alpha[index]]*all_t.shape[0], [atlas]*all_t.shape[0], [index]*all_t.shape[0])*all_t[:,ci]*(img[ci,index]-theta[ci][2*ki])**2)"
   ]
  },
  {
   "cell_type": "code",
   "execution_count": 167,
   "metadata": {
    "collapsed": true
   },
   "outputs": [],
   "source": [
    "def get_T_for_C(index):\n",
    "    np.sum(map(Qi, [img[:,index]]*all_t.shape[0], all_t, [K]*all_t.shape[0], [theta]*all_t.shape[0], \n",
    "        [alpha[index]]*all_t.shape[0], [atlas]*all_t.shape[0], [index]*all_t.shape[0])*all_t[:,ci])"
   ]
  },
  {
   "cell_type": "markdown",
   "metadata": {},
   "source": [
    "Initialization of variables, and some loading that had to be done in order"
   ]
  },
  {
   "cell_type": "code",
   "execution_count": 2,
   "metadata": {
    "collapsed": false
   },
   "outputs": [],
   "source": [
    "print \"Loading data and initializing variables\"\n",
    "dir_path = 'BRATS-2/Image_Data/HG/0001/'\n",
    "brainT1_path = dir_path + 'VSD.Brain.XX.O.MR_T1/VSD.Brain.XX.O.MR_T1.685.mha'\n",
    "brainT1c_path =dir_path + 'VSD.Brain.XX.O.MR_T1c/VSD.Brain.XX.O.MR_T1c.686.mha'\n",
    "brainT2_path = dir_path + 'VSD.Brain.XX.O.MR_T2/VSD.Brain.XX.O.MR_T2.687.mha'\n",
    "brainFLAIR_path = dir_path + 'VSD.Brain.XX.O.MR_Flair/VSD.Brain.XX.O.MR_Flair.684.mha'\n",
    "brainT1_img = SimpleITK.ReadImage(brainT1_path)\n",
    "brainT1c_img = SimpleITK.ReadImage(brainT1c_path)\n",
    "brainT2_img = SimpleITK.ReadImage(brainT2_path)\n",
    "brainFlair_img = SimpleITK.ReadImage(brainFLAIR_path)\n",
    "# truth_path = 'BRATS-2/Image_Data/HG/0001/VSD.Brain_3more.XX.XX.OT/VSD.Brain_3more.XX.XX.OT.6560.mha'\n",
    "# truth_img = SimpleITK.ReadImage(truth_path)\n",
    "initial_seg_path = 'BRATS-2/Image_Data/HG/0001/seg.nii.gz'\n",
    "initial_seg = SimpleITK.ReadImage(initial_seg_path)\n",
    "atlas_path = 'BRATS-2/Image_Data/HG/0001/Atlas/'"
   ]
  },
  {
   "cell_type": "code",
   "execution_count": 18,
   "metadata": {
    "collapsed": false
   },
   "outputs": [],
   "source": [
    "K = 3 #3 tissue classes\n",
    "C = 4 # my data has 4 channels\n",
    "N = brainT1_img.GetHeight()*brainT1_img.GetWidth()*brainT1_img.GetDepth()\n",
    "theta = np.empty([C, 2*(K+2)], double) # first 2 vals in a row are empty to match index's. class one is 2*1 and 2*1+1\n",
    "\n",
    "img = np.empty([C,N])\n",
    "img[0] = SimpleITK.GetArrayFromImage(brainT1_img).flatten()\n",
    "img[1] = SimpleITK.GetArrayFromImage(brainT1c_img).flatten()\n",
    "img[2] = SimpleITK.GetArrayFromImage(brainT2_img).flatten()\n",
    "img[3] = SimpleITK.GetArrayFromImage(brainFlair_img).flatten()\n",
    "initial_seg = SimpleITK.GetArrayFromImage(initial_seg).flatten()\n",
    "\n",
    "atlas = np.empty((4,N), double) # atlas[0] is empty to make index's match with segmentation.\n",
    "csf = SimpleITK.GetArrayFromImage(SimpleITK.ReadImage(atlas_path + \"CSF_warped.nii.gz\")).flatten()\n",
    "gm = SimpleITK.GetArrayFromImage(SimpleITK.ReadImage(atlas_path + \"GM_warped.nii.gz\")).flatten()\n",
    "wm = SimpleITK.GetArrayFromImage(SimpleITK.ReadImage(atlas_path + \"WM_warped.nii.gz\")).flatten()\n",
    "atlas[get_class(initial_seg, csf)] = csf\n",
    "# print \"csf class: \" + str(get_class(initial_seg, csf))\n",
    "atlas[get_class(initial_seg, gm)] = gm\n",
    "# print \"gm class: \" + str(get_class(initial_seg, gm))\n",
    "atlas[get_class(initial_seg, wm)] = wm\n",
    "# print \"wm class: \" + str(get_class(initial_seg, wm))\n",
    "\n",
    "add_outlier(initial_seg, img[0], K)\n",
    "alpha = np.full(N, 0.3)\n",
    "alpha[initial_seg==4] = 0.7\n",
    "\n",
    "init_theta(initial_seg, img, theta, K, C)\n",
    "all_t = get_all_t(C)"
   ]
  },
  {
   "cell_type": "markdown",
   "metadata": {},
   "source": [
    "#### EM, i.e. main segmentation"
   ]
  },
  {
   "cell_type": "markdown",
   "metadata": {},
   "source": [
    "Considering only non-zero( in all channels) voxels"
   ]
  },
  {
   "cell_type": "code",
   "execution_count": 124,
   "metadata": {
    "collapsed": false
   },
   "outputs": [
    {
     "ename": "IndentationError",
     "evalue": "unexpected indent (<ipython-input-124-3e8625d97561>, line 2)",
     "output_type": "error",
     "traceback": [
      "\u001b[1;36m  File \u001b[1;32m\"<ipython-input-124-3e8625d97561>\"\u001b[1;36m, line \u001b[1;32m2\u001b[0m\n\u001b[1;33m    for index in np.where(~np.any(img,axis=0))[0]: # ignore columns of all 0 as background\u001b[0m\n\u001b[1;37m    ^\u001b[0m\n\u001b[1;31mIndentationError\u001b[0m\u001b[1;31m:\u001b[0m unexpected indent\n"
     ]
    }
   ],
   "source": [
    "indexs = np.where(~np.any(img,axis=0))[0] # index's of non-zero intensity vectors yi\n",
    "for j in range(0,16): #for now do 15 iterations of EM\n",
    "    print \"EM iteration \" + str(j)\n",
    "    print \"\\tPerforming alpha step\"\n",
    "    alpha[indexs] = map(alpha_update, indexs) # alpha update\n",
    "    for ci in range(0,C):\n",
    "        print\"\\tPerforming theta update for normal tissues\"\n",
    "        for ki in range (1,K+2): #update mean and var for normal tissues\n",
    "            theta[ci][2*ki] = np.sum(map(mu_update_numerator, indexs)) / np.sum(map(mu, update_denominator, indexs))\n",
    "            theta[ci][2*ki+1] = np.sum(map(stddev_update_numerator, indexs)) / np.sum(map(update_denominator, indexs))\n",
    "        ki = 4  #update mean and var for tumor tissues\n",
    "        print \"\\tPerforming theta update for tumor tissue\"\n",
    "        theta[ci][2*ki] = np.sum(map(tumor_mu_update_numerator, index)) / np.sum(map(tumor_update_denominator, index))\n",
    "        theta[ci][2*ki+1] = np.sum(map(tumor_stddev_update_numerator, index)) / np.sum(map(tumor_update_denominator, index))"
   ]
  },
  {
   "cell_type": "markdown",
   "metadata": {},
   "source": [
    "Get final segmentations"
   ]
  },
  {
   "cell_type": "code",
   "execution_count": null,
   "metadata": {
    "collapsed": true
   },
   "outputs": [],
   "source": [
    "print \"Computing final segmentations\"\n",
    "final_tumor = np.zeros((C,N), double)\n",
    "for c in range(0,C):\n",
    "    final_tumor[c][index] = map(get_T_for_C, index) "
   ]
  },
  {
   "cell_type": "markdown",
   "metadata": {},
   "source": [
    "Save the segmentations"
   ]
  },
  {
   "cell_type": "code",
   "execution_count": null,
   "metadata": {
    "collapsed": true
   },
   "outputs": [],
   "source": [
    "print \"Saving images\"\n",
    "t1_seg = SimpleITK.GetImageFromArray(np.reshape(final_tumor[0],(176,216,160)))\n",
    "t1c_seg = SimpleITK.GetImageFromArray(np.reshape(final_tumor[1],(176,216,160)))\n",
    "t2_seg = SimpleITK.GetImageFromArray(np.reshape(final_tumor[2],(176,216,160)))\n",
    "flair_seg = SimpleITK.GetImageFromArray(np.reshape(final_tumor[3],(176,216,160)))\n",
    "SimpleITK.WriteImage(t1_seg, dir_path + 'my_T1_seg.nii.gz')\n",
    "SimpleITK.WriteImage(t1c_seg, dir_path + 'my_T1c_seg.nii.gz')\n",
    "SimpleITK.WriteImage(t2_seg, dir_path + 'my_T2_seg.nii.gz')\n",
    "SimpleITK.WriteImage(flair_seg, dir_path + 'my_Flair_seg.nii.gz')"
   ]
  },
  {
   "cell_type": "code",
   "execution_count": null,
   "metadata": {
    "collapsed": true
   },
   "outputs": [],
   "source": []
  }
 ],
 "metadata": {
  "kernelspec": {
   "display_name": "Python 2",
   "language": "python",
   "name": "python2"
  },
  "language_info": {
   "codemirror_mode": {
    "name": "ipython",
    "version": 2
   },
   "file_extension": ".py",
   "mimetype": "text/x-python",
   "name": "python",
   "nbconvert_exporter": "python",
   "pygments_lexer": "ipython2",
   "version": "2.7.11"
  }
 },
 "nbformat": 4,
 "nbformat_minor": 0
}
