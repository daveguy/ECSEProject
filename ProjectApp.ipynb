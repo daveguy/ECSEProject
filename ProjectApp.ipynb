{
 "cells": [
  {
   "cell_type": "code",
   "execution_count": 1,
   "metadata": {
    "collapsed": false
   },
   "outputs": [
    {
     "name": "stdout",
     "output_type": "stream",
     "text": [
      "Populating the interactive namespace from numpy and matplotlib\n"
     ]
    }
   ],
   "source": [
    "import os\n",
    "import numpy as np\n",
    "import SimpleITK\n",
    "import matplotlib.pyplot as plt\n",
    "import matplotlib.mlab as mlab\n",
    "%pylab inline"
   ]
  },
  {
   "cell_type": "code",
   "execution_count": 2,
   "metadata": {
    "collapsed": false
   },
   "outputs": [],
   "source": [
    "brainT1_path = 'BRATS-2/Image_Data/HG/0001/VSD.Brain.XX.O.MR_T1/VSD.Brain.XX.O.MR_T1.685.mha'\n",
    "brainT1c_path ='BRATS-2/Image_Data/HG/0001/VSD.Brain.XX.O.MR_T1c/VSD.Brain.XX.O.MR_T1c.686.mha'\n",
    "brainT2_path = 'BRATS-2/Image_Data/HG/0001/VSD.Brain.XX.O.MR_T2/VSD.Brain.XX.O.MR_T2.687.mha'\n",
    "brainFLAIR_path = 'BRATS-2/Image_Data/HG/0001/VSD.Brain.XX.O.MR_Flair/VSD.Brain.XX.O.MR_Flair.684.mha'\n",
    "brainT1_img = SimpleITK.ReadImage(brainT1_path)\n",
    "brainT1c_img = SimpleITK.ReadImage(brainT1c_path)\n",
    "brainT2_img = SimpleITK.ReadImage(brainT2_path)\n",
    "brainFlair_img = SimpleITK.ReadImage(brainFLAIR_path)\n",
    "truth_path = 'BRATS-2/Image_Data/HG/0001/VSD.Brain_3more.XX.XX.OT/VSD.Brain_3more.XX.XX.OT.6560.mha'\n",
    "truth_img = SimpleITK.ReadImage(truth_path)\n",
    "atlas_path = 'Atlas/mni_icbm152_t1_tal_nlin_sym_09a.nii'\n",
    "atlas_img = SimpleITK.ReadImage(atlas_path)\n",
    "initial_seg_path = 'BRATS-2/Image_Data/HG/0001/seg.nii.gz'\n",
    "initial_seg = SimpleITK.ReadImage(initial_seg_path)"
   ]
  },
  {
   "cell_type": "markdown",
   "metadata": {},
   "source": [
    "A method to display slices"
   ]
  },
  {
   "cell_type": "code",
   "execution_count": 3,
   "metadata": {
    "collapsed": true
   },
   "outputs": [],
   "source": [
    "def sitk_show(img, title=None, margin=0.0, dpi=40):\n",
    "    nda = SimpleITK.GetArrayFromImage(img)\n",
    "    #spacing = img.GetSpacing()\n",
    "    figsize = (1 + margin) * nda.shape[0] / dpi, (1 + margin) * nda.shape[1] / dpi\n",
    "    #extent = (0, nda.shape[1]*spacing[1], nda.shape[0]*spacing[0], 0)\n",
    "    extent = (0, nda.shape[1], nda.shape[0], 0)\n",
    "    fig = plt.figure(figsize=figsize, dpi=dpi)\n",
    "    ax = fig.add_axes([margin, margin, 1 - 2*margin, 1 - 2*margin])\n",
    "    plt.set_cmap(\"gray\")\n",
    "    ax.imshow(nda,extent=extent,interpolation=None)\n",
    "    \n",
    "    if title:\n",
    "        plt.title(title)\n",
    "    \n",
    "    plt.show()"
   ]
  },
  {
   "cell_type": "markdown",
   "metadata": {},
   "source": [
    "Takes an image segmentation (gray matter, white matter and CSF) and initializes theta. outliers are more than 3 standard deviations away from norm"
   ]
  },
  {
   "cell_type": "code",
   "execution_count": 84,
   "metadata": {
    "collapsed": true
   },
   "outputs": [],
   "source": [
    "def init_theta(seg,img, theta, k, c):\n",
    "    for i in range(0,c):\n",
    "        outliers = []\n",
    "        for j in range(0,k):\n",
    "            theta[i][2*j] = img[i][seg==(j+1)].mean()\n",
    "            theta[i][2*j+1] = img[i][seg==(j+1)].std()\n",
    "            outliers.extend(img[i][seg==(j+1)].tolist())\n",
    "        theta[i][2*k] = np.array(outliers).mean()\n",
    "        theta[i][2*k+1] = np.array(outliers).std()\n",
    "            \n",
    "    \n",
    "        "
   ]
  },
  {
   "cell_type": "code",
   "execution_count": 5,
   "metadata": {
    "collapsed": false
   },
   "outputs": [],
   "source": [
    "k = 3 #3 tissue classes\n",
    "c = 4 # my data has 4 channels\n",
    "N = brainT1_img.GetHeight()*brainT1_img.GetWidth()*brainT1_img.GetDepth()\n",
    "theta = np.empty([c, 2*(k+1)], double) #[c1k1,c1k2....cnkm, c1k+1, c2k+1...]\n",
    "alpha = np.empty(N)"
   ]
  },
  {
   "cell_type": "code",
   "execution_count": 7,
   "metadata": {
    "collapsed": false
   },
   "outputs": [],
   "source": [
    "img = np.empty([c,N])\n",
    "img[0] = SimpleITK.GetArrayFromImage(brainT1_img).flatten()\n",
    "img[1] = SimpleITK.GetArrayFromImage(brainT1c_img).flatten()\n",
    "img[2] = SimpleITK.GetArrayFromImage(brainT2_img).flatten()\n",
    "img[3] = SimpleITK.GetArrayFromImage(brainFlair_img).flatten()\n",
    "initial_seg = SimpleITK.GetArrayFromImage(initial_seg).flatten()"
   ]
  },
  {
   "cell_type": "code",
   "execution_count": 85,
   "metadata": {
    "collapsed": false
   },
   "outputs": [],
   "source": [
    "init_theta(initial_seg, img, theta, k, c)"
   ]
  },
  {
   "cell_type": "code",
   "execution_count": 86,
   "metadata": {
    "collapsed": false
   },
   "outputs": [
    {
     "data": {
      "text/plain": [
       "array([[ 215.75135229,  108.46821808,  361.07009317,   28.8918784 ,\n",
       "         440.77736211,   28.5018692 ,  388.36491569,   88.39553045],\n",
       "       [ 282.41242049,  217.17645632,  481.10535859,  127.54961949,\n",
       "         569.68475254,   93.09325441,  506.69688688,  157.23965233],\n",
       "       [ 554.45312432,  325.82081462,  492.32309043,  152.63318548,\n",
       "         422.60372712,  170.37432576,  460.16613176,  198.5062879 ],\n",
       "       [ 159.8251547 ,  160.15699176,  368.71675803,  104.46966392,\n",
       "         415.60830657,  114.31180674,  369.0452824 ,  144.41501836]])"
      ]
     },
     "execution_count": 86,
     "metadata": {},
     "output_type": "execute_result"
    }
   ],
   "source": [
    "theta"
   ]
  },
  {
   "cell_type": "code",
   "execution_count": null,
   "metadata": {
    "collapsed": true
   },
   "outputs": [],
   "source": []
  }
 ],
 "metadata": {
  "kernelspec": {
   "display_name": "Python 2",
   "language": "python",
   "name": "python2"
  },
  "language_info": {
   "codemirror_mode": {
    "name": "ipython",
    "version": 2
   },
   "file_extension": ".py",
   "mimetype": "text/x-python",
   "name": "python",
   "nbconvert_exporter": "python",
   "pygments_lexer": "ipython2",
   "version": "2.7.11"
  }
 },
 "nbformat": 4,
 "nbformat_minor": 0
}
