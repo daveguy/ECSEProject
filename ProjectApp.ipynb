{
 "cells": [
  {
   "cell_type": "code",
   "execution_count": 2,
   "metadata": {
    "collapsed": false
   },
   "outputs": [
    {
     "name": "stdout",
     "output_type": "stream",
     "text": [
      "Populating the interactive namespace from numpy and matplotlib\n"
     ]
    }
   ],
   "source": [
    "import os\n",
    "import numpy as np\n",
    "import SimpleITK\n",
    "import matplotlib.pyplot as plt\n",
    "import matplotlib.mlab as mlab\n",
    "%pylab inline"
   ]
  },
  {
   "cell_type": "code",
   "execution_count": 6,
   "metadata": {
    "collapsed": false
   },
   "outputs": [],
   "source": [
    "brainT1_path = 'BRATS-2/Image_Data/HG/0001/VSD.Brain.XX.O.MR_T1/VSD.Brain.XX.O.MR_T1.685.mha'\n",
    "brainT1c_path ='BRATS-2/Image_Data/HG/0001/VSD.Brain.XX.O.MR_T1c/VSD.Brain.XX.O.MR_T1c.686.mha'\n",
    "brainT2_path = 'BRATS-2/Image_Data/HG/0001/VSD.Brain.XX.O.MR_T2/VSD.Brain.XX.O.MR_T2.687.mha'\n",
    "brainFLAIR_path = 'BRATS-2/Image_Data/HG/0001/VSD.Brain.XX.O.MR_Flair/VSD.Brain.XX.O.MR_Flair.684.mha'\n",
    "brainT1_img = SimpleITK.ReadImage(brainT1_path)\n",
    "brainT1c_img = SimpleITK.ReadImage(brainT1c_path)\n",
    "brainT2_img = SimpleITK.ReadImage(brainT2_path)\n",
    "brainFlair_img = SimpleITK.ReadImage(brainFLAIR_path)\n",
    "truth_path = 'BRATS-2/Image_Data/HG/0001/VSD.Brain_3more.XX.XX.OT/VSD.Brain_3more.XX.XX.OT.6560.mha'\n",
    "truth_img = SimpleITK.ReadImage(truth_path)\n",
    "initial_seg_path = 'BRATS-2/Image_Data/HG/0001/seg.nii.gz'\n",
    "initial_seg = SimpleITK.ReadImage(initial_seg_path)\n",
    "atlas_path = 'BRATS-2/Image_Data/HG/0001/Atlas/'"
   ]
  },
  {
   "cell_type": "markdown",
   "metadata": {},
   "source": [
    "A method to display slices"
   ]
  },
  {
   "cell_type": "code",
   "execution_count": 3,
   "metadata": {
    "collapsed": true
   },
   "outputs": [],
   "source": [
    "def sitk_show(img, title=None, margin=0.0, dpi=40):\n",
    "    nda = SimpleITK.GetArrayFromImage(img)\n",
    "    #spacing = img.GetSpacing()\n",
    "    figsize = (1 + margin) * nda.shape[0] / dpi, (1 + margin) * nda.shape[1] / dpi\n",
    "    #extent = (0, nda.shape[1]*spacing[1], nda.shape[0]*spacing[0], 0)\n",
    "    extent = (0, nda.shape[1], nda.shape[0], 0)\n",
    "    fig = plt.figure(figsize=figsize, dpi=dpi)\n",
    "    ax = fig.add_axes([margin, margin, 1 - 2*margin, 1 - 2*margin])\n",
    "    plt.set_cmap(\"gray\")\n",
    "    ax.imshow(nda,extent=extent,interpolation=None)\n",
    "    \n",
    "    if title:\n",
    "        plt.title(title)\n",
    "    \n",
    "    plt.show()"
   ]
  },
  {
   "cell_type": "markdown",
   "metadata": {},
   "source": [
    "Adds as outlier voxels 3 standard deviations away from the norm"
   ]
  },
  {
   "cell_type": "code",
   "execution_count": 73,
   "metadata": {
    "collapsed": true
   },
   "outputs": [],
   "source": [
    "def add_outlier(seg, img, k):\n",
    "    for i in range(1,k+1):\n",
    "        stdev = img[seg==i].std()\n",
    "        mean = img[seg==i].mean()\n",
    "        sub = np.all([seg==i, np.any([img>mean+3*stdev, img<mean-3*stdev], 0)],0)\n",
    "        print np.unique(sub)\n",
    "        seg[sub] = 4\n",
    "        \n",
    "        "
   ]
  },
  {
   "cell_type": "markdown",
   "metadata": {},
   "source": [
    "Takes an image segmentation (gray matter, white matter and CSF) and initializes theta. outliers are more than 3 standard deviations away from norm"
   ]
  },
  {
   "cell_type": "code",
   "execution_count": 5,
   "metadata": {
    "collapsed": true
   },
   "outputs": [],
   "source": [
    "def init_theta(seg,img, theta, k, c):\n",
    "    for i in range(0,c):\n",
    "        for j in range(1,k+2):\n",
    "            theta[i][2*j] = img[i][seg==(j)].mean()\n",
    "            theta[i][2*j+1] = img[i][seg==(j)].std()\n",
    "            \n",
    "            \n",
    "    \n",
    "        "
   ]
  },
  {
   "cell_type": "code",
   "execution_count": 6,
   "metadata": {
    "collapsed": true
   },
   "outputs": [],
   "source": [
    "def init_tumor(seg, tumor, c):\n",
    "    for i in range(0,c):\n",
    "        tumor[i][seg==4] = 1\n",
    "            "
   ]
  },
  {
   "cell_type": "code",
   "execution_count": 24,
   "metadata": {
    "collapsed": true
   },
   "outputs": [],
   "source": [
    "def T_prob(Ti, alphai):\n",
    "    return alphai**np.sum(Ti) * (1-alphai)**(Ti.size-np.sum(Ti))"
   ]
  },
  {
   "cell_type": "code",
   "execution_count": 20,
   "metadata": {
    "collapsed": false
   },
   "outputs": [],
   "source": [
    "def help_func(a,b, muk, stdevk, mukP1, stdevkP1):\n",
    "    return mlab.normpdf(a,muk,stdevk)**(1-b) * mlab.normpdf(a,mukP1, stdevkP1)**b\n",
    "\n",
    "def Y_prob(yi, ti, ki, theta):\n",
    "    mu=[theta[0][2*ki],theta[1][2*ki],theta[2][2*ki],theta[3][2*ki]]\n",
    "    stdev=[theta[0][2*ki+1],theta[1][2*ki+1],theta[2][2*ki+1],theta[3][2*ki+1]]\n",
    "    mukP1 = [theta[0][-2],theta[1][-2],theta[2][-2],theta[3][-2]]\n",
    "    stdevkP1 = [theta[0][-1],theta[1][-1],theta[2][-1],theta[3][-1]]\n",
    "    return np.prod(map(help_func, yi, ti, mu, stdev, mukP1, stdevkP1))"
   ]
  },
  {
   "cell_type": "code",
   "execution_count": 9,
   "metadata": {
    "collapsed": true
   },
   "outputs": [],
   "source": [
    "def get_class(seg, probMap):\n",
    "    return np.argmax([np.mean(probMap[seg==1]), np.mean(probMap[seg==2]), np.mean(probMap[seg==3])])+1"
   ]
  },
  {
   "cell_type": "code",
   "execution_count": 10,
   "metadata": {
    "collapsed": true
   },
   "outputs": [],
   "source": [
    "def Qi(yi,ti, k, theta, alphai, atlas, index):\n",
    "    sum = 0\n",
    "    for i in range(1,k+1): #3 classes are 1,2,3\n",
    "        sum += Y_prob(yi, ti, i, theta)*T_prob(ti, alphai)*atlas[i][index]\n",
    "    return sum"
   ]
  },
  {
   "cell_type": "code",
   "execution_count": 37,
   "metadata": {
    "collapsed": true
   },
   "outputs": [],
   "source": [
    "def Wik(yi, theta, atlas, ti, index, k):\n",
    "    mu=[theta[0][2*k],theta[1][2*k],theta[2][2*k],theta[3][2*k]]\n",
    "    stdev=[theta[0][2*k+1],theta[1][2*k+1],theta[2][2*k+1],theta[3][2*k+1]]\n",
    "#     norm = map(mlab.normpdf, yi, mu, theta)\n",
    "#     pow = norm**(1-ti)\n",
    "#     prod = np.prod(pow)\n",
    "#     return atlas[k][index]*prod\n",
    "    return atlas[k][index]*np.prod(map(mlab.normpdf, yi, mu, stdev)**(1-ti))"
   ]
  },
  {
   "cell_type": "code",
   "execution_count": 12,
   "metadata": {
    "collapsed": true
   },
   "outputs": [],
   "source": [
    "def get_all_t(c): # returnes the 2^c configurations\n",
    "    if c == 1:\n",
    "        return [np.array([0]), np.array([1])]\n",
    "    else:\n",
    "        arr = get_all_t(c-1)\n",
    "        return[np.append(a0,b0) for a0 in arr for b0 in np.array([0,1])]"
   ]
  },
  {
   "cell_type": "markdown",
   "metadata": {},
   "source": [
    "Initialization of variables, and some loading that had to be done in order"
   ]
  },
  {
   "cell_type": "code",
   "execution_count": 13,
   "metadata": {
    "collapsed": false
   },
   "outputs": [],
   "source": [
    "k = 3 #3 tissue classes\n",
    "c = 4 # my data has 4 channels\n",
    "N = brainT1_img.GetHeight()*brainT1_img.GetWidth()*brainT1_img.GetDepth()\n",
    "theta = np.empty([c, 2*(k+2)], double) # first 2 vals in a row are empty to match index's. class one is 2*1 and 2*1+1\n",
    "\n",
    "img = np.empty([c,N])\n",
    "img[0] = SimpleITK.GetArrayFromImage(brainT1_img).flatten()\n",
    "img[1] = SimpleITK.GetArrayFromImage(brainT1c_img).flatten()\n",
    "img[2] = SimpleITK.GetArrayFromImage(brainT2_img).flatten()\n",
    "img[3] = SimpleITK.GetArrayFromImage(brainFlair_img).flatten()\n",
    "initial_seg = SimpleITK.GetArrayFromImage(initial_seg).flatten()\n",
    "\n",
    "atlas = np.empty((4,N), double) # atlas[0] is empty to make index's match with segmentation.\n",
    "csf = SimpleITK.GetArrayFromImage(SimpleITK.ReadImage(atlas_path + \"CSF_warped.nii.gz\")).flatten()\n",
    "gm = SimpleITK.GetArrayFromImage(SimpleITK.ReadImage(atlas_path + \"GM_warped.nii.gz\")).flatten()\n",
    "wm = SimpleITK.GetArrayFromImage(SimpleITK.ReadImage(atlas_path + \"WM_warped.nii.gz\")).flatten()\n",
    "atlas[get_class(initial_seg, csf)] = csf\n",
    "# print \"csf class: \" + str(get_class(initial_seg, csf))\n",
    "atlas[get_class(initial_seg, gm)] = gm\n",
    "# print \"gm class: \" + str(get_class(initial_seg, gm))\n",
    "atlas[get_class(initial_seg, wm)] = wm\n",
    "# print \"wm class: \" + str(get_class(initial_seg, wm))\n",
    "\n",
    "alpha = np.full(N, 0.3)\n",
    "alpha[initial_seg==4] = 0.7\n",
    "\n",
    "add_outlier(initial_seg, img[0], k)\n",
    "tumor = np.zeros((c,N), int)\n",
    "init_tumor(initial_seg, tumor, c)\n",
    "\n",
    "init_theta(initial_seg, img, theta, k, c)\n",
    "all_t = get_all_t(c)"
   ]
  },
  {
   "cell_type": "markdown",
   "metadata": {},
   "source": [
    "#### EM, i.e. main segmentation"
   ]
  },
  {
   "cell_type": "markdown",
   "metadata": {},
   "source": [
    "Considering only non-zero( in all channels) voxels"
   ]
  },
  {
   "cell_type": "code",
   "execution_count": 78,
   "metadata": {
    "collapsed": false
   },
   "outputs": [
    {
     "name": "stdout",
     "output_type": "stream",
     "text": [
      "[2 3 4 5 6]\n"
     ]
    }
   ],
   "source": [
    "for i in np.nonzero(x):\n",
    "    print i"
   ]
  },
  {
   "cell_type": "markdown",
   "metadata": {},
   "source": [
    "E-Step"
   ]
  },
  {
   "cell_type": "code",
   "execution_count": 74,
   "metadata": {
    "collapsed": false
   },
   "outputs": [],
   "source": [
    "initial_seg_path = 'BRATS-2/Image_Data/HG/0001/seg.nii.gz'\n",
    "initial_seg = SimpleITK.ReadImage(initial_seg_path)\n",
    "initial_seg = SimpleITK.GetArrayFromImage(initial_seg).flatten()\n",
    "N = brainT1_img.GetHeight()*brainT1_img.GetWidth()*brainT1_img.GetDepth()\n",
    "img = np.empty([4,N])\n",
    "img[0] = SimpleITK.GetArrayFromImage(brainT1_img).flatten()\n",
    "img[1] = SimpleITK.GetArrayFromImage(brainT1c_img).flatten()\n",
    "img[2] = SimpleITK.GetArrayFromImage(brainT2_img).flatten()\n",
    "img[3] = SimpleITK.GetArrayFromImage(brainFlair_img).flatten()"
   ]
  },
  {
   "cell_type": "code",
   "execution_count": 77,
   "metadata": {
    "collapsed": false
   },
   "outputs": [
    {
     "data": {
      "text/plain": [
       "array([0, 1, 2, 3, 4], dtype=uint32)"
      ]
     },
     "execution_count": 77,
     "metadata": {},
     "output_type": "execute_result"
    }
   ],
   "source": [
    "np.unique(initial_seg)"
   ]
  },
  {
   "cell_type": "code",
   "execution_count": 76,
   "metadata": {
    "collapsed": false,
    "scrolled": true
   },
   "outputs": [
    {
     "name": "stdout",
     "output_type": "stream",
     "text": [
      "[False  True]\n",
      "[False  True]\n",
      "[False  True]\n"
     ]
    }
   ],
   "source": [
    "add_outlier(initial_seg, img[0], 3)"
   ]
  },
  {
   "cell_type": "code",
   "execution_count": 27,
   "metadata": {
    "collapsed": false
   },
   "outputs": [],
   "source": [
    "stdev = img[0][initial_seg==1].std()\n",
    "mean = img[0][initial_seg==1].mean()\n",
    "sub = [initial_seg==1] and [img[0] > mean+3*stdev] and [img[0] < mean - 3*stdev]"
   ]
  },
  {
   "cell_type": "code",
   "execution_count": 38,
   "metadata": {
    "collapsed": false
   },
   "outputs": [
    {
     "data": {
      "text/plain": [
       "[True, True, True]"
      ]
     },
     "execution_count": 38,
     "metadata": {},
     "output_type": "execute_result"
    }
   ],
   "source": [
    "[False, True, False] and [True, True, True]"
   ]
  },
  {
   "cell_type": "code",
   "execution_count": 51,
   "metadata": {
    "collapsed": false
   },
   "outputs": [],
   "source": [
    "x=np.array([0,0,1,1,1,0,0])\n",
    "y=np.array([1,2,3,6,2,3,6])\n",
    "z=numpy.all([x==1, y>5], 0)"
   ]
  },
  {
   "cell_type": "code",
   "execution_count": 52,
   "metadata": {
    "collapsed": false
   },
   "outputs": [
    {
     "data": {
      "text/plain": [
       "False"
      ]
     },
     "execution_count": 52,
     "metadata": {},
     "output_type": "execute_result"
    }
   ],
   "source": [
    "z[1]"
   ]
  },
  {
   "cell_type": "code",
   "execution_count": 53,
   "metadata": {
    "collapsed": false
   },
   "outputs": [],
   "source": [
    "x[z] = 2"
   ]
  },
  {
   "cell_type": "code",
   "execution_count": 72,
   "metadata": {
    "collapsed": false
   },
   "outputs": [
    {
     "data": {
      "text/plain": [
       "array([ True,  True], dtype=bool)"
      ]
     },
     "execution_count": 72,
     "metadata": {},
     "output_type": "execute_result"
    }
   ],
   "source": [
    "np.any([[True,False],[True,True]], 0)"
   ]
  },
  {
   "cell_type": "code",
   "execution_count": null,
   "metadata": {
    "collapsed": true
   },
   "outputs": [],
   "source": []
  }
 ],
 "metadata": {
  "kernelspec": {
   "display_name": "Python 2",
   "language": "python",
   "name": "python2"
  },
  "language_info": {
   "codemirror_mode": {
    "name": "ipython",
    "version": 2
   },
   "file_extension": ".py",
   "mimetype": "text/x-python",
   "name": "python",
   "nbconvert_exporter": "python",
   "pygments_lexer": "ipython2",
   "version": "2.7.11"
  }
 },
 "nbformat": 4,
 "nbformat_minor": 0
}
