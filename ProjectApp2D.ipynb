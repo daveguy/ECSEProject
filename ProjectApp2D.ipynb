{
 "cells": [
  {
   "cell_type": "code",
   "execution_count": null,
   "metadata": {
    "collapsed": false
   },
   "outputs": [],
   "source": [
    "# import os\n",
    "import numpy as np\n",
    "import SimpleITK\n",
    "import matplotlib.pyplot as plt\n",
    "import matplotlib.mlab as mlab\n",
    "from __future__ import division\n",
    "from datetime import datetime as dt\n",
    "%pylab inline"
   ]
  },
  {
   "cell_type": "markdown",
   "metadata": {},
   "source": [
    "A method to display slices"
   ]
  },
  {
   "cell_type": "code",
   "execution_count": null,
   "metadata": {
    "collapsed": true
   },
   "outputs": [],
   "source": [
    "def sitk_show(img, title=None, margin=0.0, dpi=40):\n",
    "#     nda = SimpleITK.GetArrayFromImage(img)\n",
    "    nda = img\n",
    "    #spacing = img.GetSpacing()\n",
    "    figsize = (1 + margin) * nda.shape[0] / dpi, (1 + margin) * nda.shape[1] / dpi\n",
    "    #extent = (0, nda.shape[1]*spacing[1], nda.shape[0]*spacing[0], 0)\n",
    "    extent = (0, nda.shape[1], nda.shape[0], 0)\n",
    "    fig = plt.figure(figsize=figsize, dpi=dpi)\n",
    "    ax = fig.add_axes([margin, margin, 1 - 2*margin, 1 - 2*margin])\n",
    "    plt.set_cmap(\"gray\")\n",
    "    ax.imshow(nda,extent=extent,interpolation=None)\n",
    "    \n",
    "    if title:\n",
    "        plt.title(title)\n",
    "    \n",
    "    plt.show()"
   ]
  },
  {
   "cell_type": "markdown",
   "metadata": {},
   "source": [
    "Adds as outlier voxels 3 standard deviations away from the norm"
   ]
  },
  {
   "cell_type": "code",
   "execution_count": null,
   "metadata": {
    "collapsed": true
   },
   "outputs": [],
   "source": [
    "def add_outlier(seg, img, k):\n",
    "    for i in range(1,k+1):\n",
    "        stdev = img[seg==i].std()\n",
    "        mean = img[seg==i].mean()\n",
    "        sub = np.all([seg==i, np.any([img>mean+3*stdev, img<mean-3*stdev], 0)],0)\n",
    "        seg[sub] = 4\n",
    "        \n",
    "        "
   ]
  },
  {
   "cell_type": "markdown",
   "metadata": {},
   "source": [
    "Takes an image segmentation (gray matter, white matter and CSF) and initializes theta. outliers are more than 3 standard deviations away from norm"
   ]
  },
  {
   "cell_type": "code",
   "execution_count": null,
   "metadata": {
    "collapsed": true
   },
   "outputs": [],
   "source": [
    "def init_theta(seg,img, theta, k, c):\n",
    "    for i in range(0,c):\n",
    "        for j in range(1,k+2):\n",
    "            theta[i][2*j] = img[i][seg==(j)].mean()\n",
    "            theta[i][2*j+1] = img[i][seg==(j)].var()\n",
    "            \n",
    "            \n",
    "    \n",
    "        "
   ]
  },
  {
   "cell_type": "markdown",
   "metadata": {},
   "source": [
    "Calculates the probability of a configuration of t given alpha. Equation 2 in the Menze paper            "
   ]
  },
  {
   "cell_type": "code",
   "execution_count": null,
   "metadata": {
    "collapsed": true
   },
   "outputs": [],
   "source": [
    "def T_prob(Ti, alphai):\n",
    "    return alphai**np.sum(Ti) * (1-alphai)**(Ti.size-np.sum(Ti))"
   ]
  },
  {
   "cell_type": "markdown",
   "metadata": {},
   "source": [
    "Calculates the probability of a configuration of y given a configuration of t, a class k and theta.\n",
    "Equation 3 in the menze paper"
   ]
  },
  {
   "cell_type": "code",
   "execution_count": null,
   "metadata": {
    "collapsed": false
   },
   "outputs": [],
   "source": [
    "def Y_prob(yi, ti, ki, theta):\n",
    "    mu=[theta[0][2*ki],theta[1][2*ki],theta[2][2*ki],theta[3][2*ki]]\n",
    "    var=[theta[0][2*ki+1],theta[1][2*ki+1],theta[2][2*ki+1],theta[3][2*ki+1]]\n",
    "    mukP1 = [theta[0][-2],theta[1][-2],theta[2][-2],theta[3][-2]]\n",
    "    varkP1 = [theta[0][-1],theta[1][-1],theta[2][-1],theta[3][-1]]\n",
    "    return np.prod(mlab.normpdf(yi,mu,np.sqrt(var))**(1-ti) * mlab.normpdf(yi,mukP1, np.sqrt(varkP1))**ti)"
   ]
  },
  {
   "cell_type": "markdown",
   "metadata": {},
   "source": [
    "returns the most likely class from the segmentation (1,2 or 3) for a given probability map by finding the segmentation index's with the highest corresponding mean probability. Used to match the maps for CSF, WM and GM to a corresponding segmentation"
   ]
  },
  {
   "cell_type": "code",
   "execution_count": null,
   "metadata": {
    "collapsed": true
   },
   "outputs": [],
   "source": [
    "def get_class(seg, probMap):\n",
    "    return np.argmax([np.mean(probMap[seg==1]), np.mean(probMap[seg==2]), np.mean(probMap[seg==3])])+1"
   ]
  },
  {
   "cell_type": "markdown",
   "metadata": {},
   "source": [
    "The function qi(ti) and wik(tik). Equation 4 in my report, Equations 5 and later unnumbered equations in Menze paper."
   ]
  },
  {
   "cell_type": "code",
   "execution_count": null,
   "metadata": {
    "collapsed": true
   },
   "outputs": [],
   "source": [
    "def Qi(yi,ti, k, theta, alphai, atlas, index):\n",
    "    sum = 0\n",
    "    for i in range(1,k+1): #3 classes are 1,2,3\n",
    "        sum += Y_prob(yi, ti, i, theta)*T_prob(ti, alphai)*atlas[i][index]\n",
    "    return sum"
   ]
  },
  {
   "cell_type": "code",
   "execution_count": null,
   "metadata": {
    "collapsed": true
   },
   "outputs": [],
   "source": [
    "def Wik(yi, theta, atlas, ti, index, k):\n",
    "    mu=[theta[0][2*k],theta[1][2*k],theta[2][2*k],theta[3][2*k]]\n",
    "    var=[theta[0][2*k+1],theta[1][2*k+1],theta[2][2*k+1],theta[3][2*k+1]]\n",
    "    return atlas[k][index]*np.prod(mlab.normpdf( yi, mu, np.sqrt(var))**(1-ti))"
   ]
  },
  {
   "cell_type": "markdown",
   "metadata": {},
   "source": [
    "Returns all possible 2^C configurations of length C for t_i"
   ]
  },
  {
   "cell_type": "code",
   "execution_count": null,
   "metadata": {
    "collapsed": false
   },
   "outputs": [],
   "source": [
    "def get_all_t(c): # returnes the 2^c configurations\n",
    "    if c == 1:\n",
    "        return [np.array([0]), np.array([1])]\n",
    "    else:\n",
    "        arr = get_all_t(c-1)\n",
    "        return np.array([np.append(a0,b0) for a0 in arr for b0 in np.array([0,1])])"
   ]
  },
  {
   "cell_type": "markdown",
   "metadata": {},
   "source": [
    "Performs the alpha update for a single alpha_i. Equation 5 in my report"
   ]
  },
  {
   "cell_type": "code",
   "execution_count": null,
   "metadata": {
    "collapsed": true
   },
   "outputs": [],
   "source": [
    "def alpha_update(index):\n",
    "    return np.sum(map(Qi, [img[:,index]]*all_t.shape[0], all_t, [K]*all_t.shape[0], [theta]*all_t.shape[0], \n",
    "        [alpha[index]]*all_t.shape[0], [atlas]*all_t.shape[0], [index]*all_t.shape[0]) * np.true_divide(np.sum(all_t,1), C))"
   ]
  },
  {
   "cell_type": "markdown",
   "metadata": {},
   "source": [
    "Functions to calculate the numerators and denominators for the theta update. Equation 6 in my report, unnumbered equations under equation 5 in Menze paper."
   ]
  },
  {
   "cell_type": "code",
   "execution_count": null,
   "metadata": {
    "collapsed": false
   },
   "outputs": [],
   "source": [
    "def mu_update_numerator(index):\n",
    "    return np.sum(map(Qi, [img[:,index]]*all_t.shape[0], all_t, [K]*all_t.shape[0], [theta]*all_t.shape[0], \n",
    "        [alpha[index]]*all_t.shape[0], [atlas]*all_t.shape[0], [index]*all_t.shape[0])*\n",
    "           np.array(map(Wik, [img[:,index]]*all_t.shape[0],[theta]*all_t.shape[0], [atlas]*all_t.shape[0],\n",
    "                all_t, [index]*all_t.shape[0], [ki]*all_t.shape[0]))*(1-all_t[:,ci])*img[ci,index])\n",
    "\n",
    "\n",
    "def update_denominator(index): # mu and stdev update denominators are the same\n",
    "    return np.sum(map(Qi, [img[:,index]]*all_t.shape[0], all_t, [K]*all_t.shape[0], [theta]*all_t.shape[0], \n",
    "        [alpha[index]]*all_t.shape[0], [atlas]*all_t.shape[0], [index]*all_t.shape[0])*\n",
    "           np.array(map(Wik, [img[:,index]]*all_t.shape[0],[theta]*all_t.shape[0], [atlas]*all_t.shape[0],\n",
    "                all_t, [index]*all_t.shape[0], [ki]*all_t.shape[0]))*(1-all_t[:,ci]))\n",
    "\n",
    "def stddev_update_numerator(index):\n",
    "    return np.sum(map(Qi, [img[:,index]]*all_t.shape[0], all_t, [K]*all_t.shape[0], [theta]*all_t.shape[0], \n",
    "        [alpha[index]]*all_t.shape[0], [atlas]*all_t.shape[0], [index]*all_t.shape[0])*\n",
    "           np.array(map(Wik, [img[:,index]]*all_t.shape[0],[theta]*all_t.shape[0], [atlas]*all_t.shape[0],\n",
    "                all_t, [index]*all_t.shape[0], [ki]*all_t.shape[0]))*(1-all_t[:,ci])*(img[ci,index]-theta[ci][2*ki])**2)\n",
    "\n",
    "def tumor_mu_update_numerator(index):\n",
    "    return np.sum(map(Qi, [img[:,index]]*all_t.shape[0], all_t, [K]*all_t.shape[0], [theta]*all_t.shape[0], \n",
    "        [alpha[index]]*all_t.shape[0], [atlas]*all_t.shape[0], [index]*all_t.shape[0])*all_t[:,ci]*img[ci,index])\n",
    "\n",
    "def tumor_update_denominator(index):\n",
    "    return np.sum(map(Qi, [img[:,index]]*all_t.shape[0], all_t, [K]*all_t.shape[0], [theta]*all_t.shape[0], \n",
    "        [alpha[index]]*all_t.shape[0], [atlas]*all_t.shape[0], [index]*all_t.shape[0])*all_t[:,ci])\n",
    "\n",
    "def tumor_stddev_update_numerator(index):\n",
    "    return np.sum(map(Qi, [img[:,index]]*all_t.shape[0], all_t, [K]*all_t.shape[0], [theta]*all_t.shape[0], \n",
    "        [alpha[index]]*all_t.shape[0], [atlas]*all_t.shape[0], [index]*all_t.shape[0])*all_t[:,ci]*(img[ci,index]-theta[ci][2*ki])**2)"
   ]
  },
  {
   "cell_type": "markdown",
   "metadata": {},
   "source": [
    "Once optimaization is complete, this gets the final labels for tumors"
   ]
  },
  {
   "cell_type": "code",
   "execution_count": null,
   "metadata": {
    "collapsed": true
   },
   "outputs": [],
   "source": [
    "def get_T_for_C(index):\n",
    "    np.sum(map(Qi, [img[:,index]]*all_t.shape[0], all_t, [K]*all_t.shape[0], [theta]*all_t.shape[0], \n",
    "        [alpha[index]]*all_t.shape[0], [atlas]*all_t.shape[0], [index]*all_t.shape[0])*all_t[:,ci])"
   ]
  },
  {
   "cell_type": "markdown",
   "metadata": {},
   "source": [
    "Initialization of variables, and some loading that had to be done in order"
   ]
  },
  {
   "cell_type": "code",
   "execution_count": null,
   "metadata": {
    "collapsed": false
   },
   "outputs": [],
   "source": [
    "print \"Loading data and initializing variables\"\n",
    "dir_path = 'BRATS-2/Image_Data/HG/0001/'\n",
    "brainT1_path = dir_path + 'VSD.Brain.XX.O.MR_T1/VSD.Brain.XX.O.MR_T1.685.mha'\n",
    "brainT1c_path =dir_path + 'VSD.Brain.XX.O.MR_T1c/VSD.Brain.XX.O.MR_T1c.686.mha'\n",
    "brainT2_path = dir_path + 'VSD.Brain.XX.O.MR_T2/VSD.Brain.XX.O.MR_T2.687.mha'\n",
    "brainFLAIR_path = dir_path + 'VSD.Brain.XX.O.MR_Flair/VSD.Brain.XX.O.MR_Flair.684.mha'\n",
    "brainT1_img = SimpleITK.ReadImage(brainT1_path)\n",
    "brainT1c_img = SimpleITK.ReadImage(brainT1c_path)\n",
    "brainT2_img = SimpleITK.ReadImage(brainT2_path)\n",
    "brainFlair_img = SimpleITK.ReadImage(brainFLAIR_path)\n",
    "initial_seg_path = 'BRATS-2/Image_Data/HG/0001/seg.nii.gz'\n",
    "initial_seg = SimpleITK.ReadImage(initial_seg_path)\n",
    "atlas_path = 'BRATS-2/Image_Data/HG/0001/Atlas/'"
   ]
  },
  {
   "cell_type": "markdown",
   "metadata": {},
   "source": [
    "Slices image, slice was manually selected to contain a large amount of tumor"
   ]
  },
  {
   "cell_type": "code",
   "execution_count": null,
   "metadata": {
    "collapsed": false
   },
   "outputs": [],
   "source": [
    "brainT1_img = SimpleITK.GetArrayFromImage(brainT1_img)[65,:,:]\n",
    "brainT1c_img = SimpleITK.GetArrayFromImage(brainT1c_img)[65,:,:]\n",
    "brainT2_img = SimpleITK.GetArrayFromImage(brainT2_img)[65,:,:]\n",
    "brainFlair_img =SimpleITK.GetArrayFromImage(brainFlair_img)[65,:,:]\n",
    "initial_seg = SimpleITK.GetArrayFromImage(initial_seg)[65,:,:]"
   ]
  },
  {
   "cell_type": "code",
   "execution_count": null,
   "metadata": {
    "collapsed": false
   },
   "outputs": [],
   "source": [
    "K = 3 #3 tissue classes\n",
    "C = 4 # my data has 4 channels\n",
    "N=brainT1_img.size\n",
    "theta = np.empty([C, 2*(K+2)], double) # first 2 vals in a row are empty to match index's. class one is 2*1 and 2*1+1\n",
    "\n",
    "img = np.empty([C,N])\n",
    "img[0] = brainT1_img.flatten()\n",
    "img[1] = brainT1c_img.flatten()\n",
    "img[2] = brainT2_img.flatten()\n",
    "img[3] = brainFlair_img.flatten()\n",
    "initial_seg = initial_seg.flatten()\n",
    "\n",
    "atlas = np.empty((4,N), double) # atlas[0] is empty to make index's match with segmentation.\n",
    "csf = SimpleITK.GetArrayFromImage(SimpleITK.ReadImage(atlas_path + \"CSF_warped.nii.gz\")[:,:,65]).flatten()\n",
    "gm = SimpleITK.GetArrayFromImage(SimpleITK.ReadImage(atlas_path + \"GM_warped.nii.gz\")[:,:,65]).flatten()\n",
    "wm = SimpleITK.GetArrayFromImage(SimpleITK.ReadImage(atlas_path + \"WM_warped.nii.gz\")[:,:,65]).flatten()\n",
    "atlas[get_class(initial_seg, csf)] = csf\n",
    "atlas[get_class(initial_seg, gm)] = gm\n",
    "atlas[get_class(initial_seg, wm)] = wm\n",
    "\n",
    "add_outlier(initial_seg, img[0], K)\n",
    "alpha = np.full(N, 0.3)\n",
    "alpha[initial_seg==4] = 0.7\n",
    "\n",
    "init_theta(initial_seg, img, theta, K, C)\n",
    "all_t = get_all_t(C)"
   ]
  },
  {
   "cell_type": "markdown",
   "metadata": {},
   "source": [
    "#### EM, i.e. main segmentation"
   ]
  },
  {
   "cell_type": "markdown",
   "metadata": {},
   "source": [
    "Considering only non-zero( in all channels) voxels"
   ]
  },
  {
   "cell_type": "code",
   "execution_count": null,
   "metadata": {
    "collapsed": false
   },
   "outputs": [],
   "source": [
    "indexs = np.where(~np.any(img,axis=0))[0] # index's of non-zero intensity vectors yi\n",
    "for j in range(0,6): #for now do 10 iterations of EM\n",
    "    print dt.now().time().isoformat() + \" EM iteration \" + str(j)\n",
    "    print \"\\tPerforming alpha step\"\n",
    "    alpha[indexs] = map(alpha_update, indexs) # alpha update\n",
    "    for ci in range(0,C):\n",
    "        print\"\\t\" + dt.now().time().isoformat() + \" Performing theta update for normal tissues\"\n",
    "        for ki in range (1,K+1): #update mean and var for normal tissues\n",
    "            theta[ci][2*ki] = np.true_divide(np.sum(map(mu_update_numerator, indexs)), np.sum(map(update_denominator, indexs)))\n",
    "            theta[ci][2*ki+1] = np.true_divide(np.sum(map(stddev_update_numerator, indexs)), np.sum(map(update_denominator, indexs)))\n",
    "        ki = 4  #update mean and var for tumor tissues\n",
    "        print \"\\t\" + dt.now().time().isoformat() + \" Performing theta update for tumor tissue\"\n",
    "        theta[ci][2*ki] = np.true_divide(np.sum(map(tumor_mu_update_numerator, indexs)), np.sum(map(tumor_update_denominator, indexs)))\n",
    "        theta[ci][2*ki+1] = np.true_divide(np.sum(map(tumor_stddev_update_numerator, indexs)), np.sum(map(tumor_update_denominator, indexs)))"
   ]
  },
  {
   "cell_type": "markdown",
   "metadata": {},
   "source": [
    "Get final segmentations"
   ]
  },
  {
   "cell_type": "code",
   "execution_count": null,
   "metadata": {
    "collapsed": false,
    "scrolled": true
   },
   "outputs": [],
   "source": [
    "print \"Computing final segmentations\"\n",
    "indexs = np.where(~np.any(img,axis=0))[0]\n",
    "final_tumor = np.zeros((C,N), double)\n",
    "for c in range(0,C):\n",
    "    final_tumor[c][indexs] = map(get_T_for_C, indexs) "
   ]
  },
  {
   "cell_type": "markdown",
   "metadata": {},
   "source": [
    "Save the segmentations"
   ]
  },
  {
   "cell_type": "code",
   "execution_count": null,
   "metadata": {
    "collapsed": true
   },
   "outputs": [],
   "source": [
    "print \"Saving images\"\n",
    "t1_seg = SimpleITK.GetImageFromArray(np.reshape(final_tumor[0],(58,72,53)))\n",
    "t1c_seg = SimpleITK.GetImageFromArray(np.reshape(final_tumor[1],(58,72,53)))\n",
    "t2_seg = SimpleITK.GetImageFromArray(np.reshape(final_tumor[2],(58,72,53)))\n",
    "flair_seg = SimpleITK.GetImageFromArray(np.reshape(final_tumor[3],(58,72,53)))\n",
    "SimpleITK.WriteImage(t1_seg, dir_path + 'my_T1_seg.nii.gz')\n",
    "SimpleITK.WriteImage(t1c_seg, dir_path + 'my_T1c_seg.nii.gz')\n",
    "SimpleITK.WriteImage(t2_seg, dir_path + 'my_T2_seg.nii.gz')\n",
    "SimpleITK.WriteImage(flair_seg, dir_path + 'my_Flair_seg.nii.gz')"
   ]
  },
  {
   "cell_type": "code",
   "execution_count": null,
   "metadata": {
    "collapsed": false
   },
   "outputs": [],
   "source": [
    "SimpleITK.WriteImage(SimpleITK.Expand(t1_seg,[3,3,3], SimpleITK.sitkWelchWindowedSinc), dir_path + 'my_T1_seg_exp.nii.gz')\n",
    "SimpleITK.WriteImage(SimpleITK.Expand(t1c_seg,[3,3,3], SimpleITK.sitkWelchWindowedSinc), dir_path + 'my_T1c_seg_exp.nii.gz')\n",
    "SimpleITK.WriteImage(SimpleITK.Expand(t2_seg,[3,3,3], SimpleITK.sitkWelchWindowedSinc), dir_path + 'my_T2_seg_exp.nii.gz')\n",
    "SimpleITK.WriteImage(SimpleITK.Expand(flair_seg,[3,3,3], SimpleITK.sitkWelchWindowedSinc), dir_path + 'my_Flair_seg_exp.nii.gz')"
   ]
  }
 ],
 "metadata": {
  "kernelspec": {
   "display_name": "Python 2",
   "language": "python",
   "name": "python2"
  },
  "language_info": {
   "codemirror_mode": {
    "name": "ipython",
    "version": 2
   },
   "file_extension": ".py",
   "mimetype": "text/x-python",
   "name": "python",
   "nbconvert_exporter": "python",
   "pygments_lexer": "ipython2",
   "version": "2.7.11"
  }
 },
 "nbformat": 4,
 "nbformat_minor": 0
}
